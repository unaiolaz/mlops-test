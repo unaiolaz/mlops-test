{
 "cells": [
  {
   "cell_type": "code",
   "execution_count": 3,
   "id": "16077e70",
   "metadata": {
    "ExecuteTime": {
     "end_time": "2022-05-18T07:28:45.247353Z",
     "start_time": "2022-05-18T07:28:45.198427Z"
    }
   },
   "outputs": [
    {
     "name": "stdout",
     "output_type": "stream",
     "text": [
      "Pipeline(steps=[('knnimputer', KNNImputer()),\n",
      "                ('standardscaler', StandardScaler()),\n",
      "                ('selectkbest', SelectKBest(k=9)),\n",
      "                ('randomforestclassifier',\n",
      "                 RandomForestClassifier(criterion='entropy',\n",
      "                                        min_samples_split=15,\n",
      "                                        n_estimators=50))])\n",
      "Test result:  {'result': [1, 1]}\n"
     ]
    }
   ],
   "source": [
    "import json\n",
    "import numpy\n",
    "import joblib\n",
    "\n",
    "def init():\n",
    "    global model\n",
    "    model_path = \"models/random_forest_prueba.pkl\"\n",
    "    model = joblib.load(model_path)\n",
    "    print(model)\n",
    "    \n",
    "def run(raw_data, request_headers):\n",
    "    data = json.loads(raw_data)[\"data\"]\n",
    "    data = numpy.array(data)\n",
    "    result = model.predict(data)\n",
    "    return {\"result\": result.tolist()}\n",
    "init()\n",
    "test_row = '{\"data\":[[1,2,3,4,5,6,7,8,9,10,11],[11,10,9,8,7,6,5,4,3,2,1]]}'\n",
    "request_header = {}\n",
    "prediction = run(test_row, {})\n",
    "print(\"Test result: \", prediction)"
   ]
  }
 ],
 "metadata": {
  "kernelspec": {
   "display_name": "Python 3 (ipykernel)",
   "language": "python",
   "name": "python3"
  },
  "language_info": {
   "codemirror_mode": {
    "name": "ipython",
    "version": 3
   },
   "file_extension": ".py",
   "mimetype": "text/x-python",
   "name": "python",
   "nbconvert_exporter": "python",
   "pygments_lexer": "ipython3",
   "version": "3.9.7"
  },
  "toc": {
   "base_numbering": 1,
   "nav_menu": {},
   "number_sections": true,
   "sideBar": true,
   "skip_h1_title": false,
   "title_cell": "Table of Contents",
   "title_sidebar": "Contents",
   "toc_cell": false,
   "toc_position": {},
   "toc_section_display": true,
   "toc_window_display": false
  }
 },
 "nbformat": 4,
 "nbformat_minor": 5
}
