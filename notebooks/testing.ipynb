{
 "cells": [
  {
   "cell_type": "code",
   "execution_count": 4,
   "id": "316b4e00",
   "metadata": {
    "ExecuteTime": {
     "end_time": "2022-05-18T07:58:47.849279Z",
     "start_time": "2022-05-18T07:58:47.812378Z"
    }
   },
   "outputs": [],
   "source": [
    "from training import prep_data\n",
    "import pandas as pd\n",
    "\n",
    "def test_data():\n",
    "    df = pd.read_csv(\"../data/train.csv\")\n",
    "    assert set([\"Pclass\",\"Sex\",\"Age\",\"SibSp\",\"Parch\",\"Fare\",\"Embarked\"]).issubset(set(list(df.columns)))\n",
    "    \n",
    "def test_prep_data():\n",
    "    df = pd.read_csv(\"../data/train.csv\")\n",
    "    assert prep_data(df).Sex.isna().any() == False"
   ]
  }
 ],
 "metadata": {
  "kernelspec": {
   "display_name": "Python 3 (ipykernel)",
   "language": "python",
   "name": "python3"
  },
  "language_info": {
   "codemirror_mode": {
    "name": "ipython",
    "version": 3
   },
   "file_extension": ".py",
   "mimetype": "text/x-python",
   "name": "python",
   "nbconvert_exporter": "python",
   "pygments_lexer": "ipython3",
   "version": "3.9.7"
  },
  "toc": {
   "base_numbering": 1,
   "nav_menu": {},
   "number_sections": true,
   "sideBar": true,
   "skip_h1_title": false,
   "title_cell": "Table of Contents",
   "title_sidebar": "Contents",
   "toc_cell": false,
   "toc_position": {},
   "toc_section_display": true,
   "toc_window_display": false
  }
 },
 "nbformat": 4,
 "nbformat_minor": 5
}
